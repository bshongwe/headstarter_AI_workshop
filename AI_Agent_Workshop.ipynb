{
  "nbformat": 4,
  "nbformat_minor": 5,
  "metadata": {
    "kernelspec": {
      "name": "python3",
      "display_name": "Python 3"
    },
    "language_info": {
      "name": "python"
    }
  },
  "cells": [
    {
      "cell_type": "markdown",
      "source": [
        "# 🧠 Headstarter AI Agent Workshop\n",
        "\n",
        "Welcome to the AI Agent Workshop! We'll be working with Groq, OpenRouter, and OpenAI APIs to explore their capabilities."
      ]
    },
    {
      "cell_type": "markdown",
      "source": [
        "### 📦 Install Necessary Libraries"
      ]
    },
    {
      "cell_type": "code",
      "source": [
        "!pip install openai groq --quiet\n",
        "import openai\n",
        "from groq import Groq\n",
        "import os"
      ],
      "execution_count": null,
      "outputs": []
    },
    {
      "cell_type": "markdown",
      "source": [
        "### 🔐 Set Up API Keys (Groq, OpenRouter, and OpenAI)"
      ]
    },
    {
      "cell_type": "code",
      "source": [
        "from google.colab import userdata\n",
        "\n",
        "groq_api_key = userdata.get(\"GROQ_API_KEY\") or os.getenv(\"GROQ_API_KEY\")\n",
        "openrouter_api_key = userdata.get(\"OPENROUTER_API_KEY\") or os.getenv(\"OPENROUTER_API_KEY\")\n",
        "openai_api_key = userdata.get(\"OPENAI_API_KEY\") or os.getenv(\"OPENAI_API_KEY\")\n",
        "\n",
        "if not (groq_api_key and openrouter_api_key and openai_api_key):\n",
        "    raise ValueError(\"❌ Missing one or more API keys! Please set them before continuing.\")\n",
        "\n",
        "# Set environment variables\n",
        "os.environ['GROQ_API_KEY'] = groq_api_key\n",
        "os.environ['OPENROUTER_API_KEY'] = openrouter_api_key\n",
        "os.environ['OPENAI_API_KEY'] = openai_api_key"
      ],
      "execution_count": null,
      "outputs": []
    },
    {
      "cell_type": "markdown",
      "source": [
        "### 🚀 Initialize API Clients"
      ]
    },
    {
      "cell_type": "code",
      "source": [
        "groq_client = Groq(api_key=groq_api_key)\n",
        "openai_client = openai.ChatCompletion(api_key=openai_api_key)"
      ],
      "execution_count": null,
      "outputs": []
    },
    {
      "cell_type": "markdown",
      "source": [
        "### 📜 Define a Function to Query LLMs"
      ]
    },
    {
      "cell_type": "code",
      "source": [
        "def get_llm_response(client, prompt, model=\"text-davinci-003\", json_mode=False):\n",
        "    try:\n",
        "        if client == \"openai\":\n",
        "            response = openai_client.create(\n",
        "                model=model,\n",
        "                messages=[{\"role\": \"user\", \"content\": prompt}]\n",
        "            )\n",
        "        elif client == \"groq\":\n",
        "            response = groq_client.chat.completions.create(\n",
        "                model=model,\n",
        "                messages=[{\"role\": \"user\", \"content\": prompt}]\n",
        "            )\n",
        "        else:\n",
        "            raise ValueError(f\"Invalid client: {client}\")\n",
        "        return response['choices'][0]['message']['content']\n",
        "    except Exception as e:\n",
        "        return f\"Error: {str(e)}\""
      ],
      "execution_count": null,
      "outputs": []
    },
    {
      "cell_type": "markdown",
      "source": [
        "### 🎯 Example Query: Chat with OpenAI or Groq"
      ]
    },
    {
      "cell_type": "code",
      "source": [
        "prompt = \"Explain the concept of Chain of Thought (CoT) prompting.\"\n",
        "\n",
        "# Get a response from OpenAI\n",
        "response = get_llm_response(client=\"openai\", prompt=prompt)\n",
        "print(\"🧠 OpenAI Response:\", response)"
      ],
      "execution_count": null,
      "outputs": []
    }
  ]
}
